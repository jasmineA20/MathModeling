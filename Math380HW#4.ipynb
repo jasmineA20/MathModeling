{
  "nbformat": 4,
  "nbformat_minor": 0,
  "metadata": {
    "colab": {
      "name": "Untitled28.ipynb",
      "provenance": [],
      "collapsed_sections": [],
      "authorship_tag": "ABX9TyOMyWDs/OhShcACkJfTxwdj",
      "include_colab_link": true
    },
    "kernelspec": {
      "name": "python3",
      "display_name": "Python 3"
    },
    "language_info": {
      "name": "python"
    }
  },
  "cells": [
    {
      "cell_type": "markdown",
      "metadata": {
        "id": "view-in-github",
        "colab_type": "text"
      },
      "source": [
        "<a href=\"https://colab.research.google.com/github/jasmineA20/MathModeling/blob/main/Math380HW%234.ipynb\" target=\"_parent\"><img src=\"https://colab.research.google.com/assets/colab-badge.svg\" alt=\"Open In Colab\"/></a>"
      ]
    },
    {
      "cell_type": "markdown",
      "source": [
        "3.2.2 a)"
      ],
      "metadata": {
        "id": "Kh9CXxZbDUtI"
      }
    },
    {
      "cell_type": "code",
      "execution_count": null,
      "metadata": {
        "id": "b2iMBzshDJD7"
      },
      "outputs": [],
      "source": [
        "import numpy as np\n",
        "from scipy.optimize import linprog \n",
        "import matplotlib.pyplot as plt \n",
        "import pandas as pd"
      ]
    },
    {
      "cell_type": "markdown",
      "source": [
        "We are looking for a mathematical model which minimizes the largest deviation between the data and the line y = ax + b and solving for estimates of a and b. \\\\\n",
        "Let r be the largest deviation. Our objective is to minimize r s.t. \\\\\n",
        "r - (29.1)a - b + 0.0493 $\\geq$ 0 \\\\\n",
        "r + (29.1)a + b - 0.0493 $\\geq$ 0 \\\\\n",
        ". \\\\\n",
        ". \\\\\n",
        ". \\\\\n",
        "r - (199)a - b + (0.328) $\\geq$ 0 \\\\\n",
        "r + (199)a + b - (0.328) $\\geq$ 0 \\\\\n"
      ],
      "metadata": {
        "id": "I6DJ4Z9rNH-W"
      }
    },
    {
      "cell_type": "code",
      "source": [
        "x = np.array([[29.1, 48.2, 72.7, 92.0, 118, 140, 165, 199]])\n",
        "y = np.array([[0.0493, 0.0821, 0.123, 0.154, 0.197, 0.234, 0.274, 0.328]])"
      ],
      "metadata": {
        "id": "0XDsEqrzDQDM"
      },
      "execution_count": null,
      "outputs": []
    },
    {
      "cell_type": "code",
      "source": [
        "ones = np.ones([8,1])\n",
        "c = np.array([[1, 0, 0]])"
      ],
      "metadata": {
        "id": "Ta_W5VrQDal-"
      },
      "execution_count": null,
      "outputs": []
    },
    {
      "cell_type": "code",
      "source": [
        "A = np.concatenate([np.concatenate([ones, np.transpose(x), ones], axis=1),np.concatenate([ones, -1*np.transpose(x),-1*ones], axis=1)])\n",
        "b = np.concatenate([np.transpose(y), -1*np.transpose(y)])"
      ],
      "metadata": {
        "id": "1imXmBY-Dcli"
      },
      "execution_count": null,
      "outputs": []
    },
    {
      "cell_type": "code",
      "source": [
        "x = np.array([[29.1, 48.2, 72.7, 92.0, 118, 140, 165, 199]])\n",
        "y = np.array([[0.0493, 0.0821, 0.123, 0.154, 0.197, 0.234, 0.274, 0.328]])\n",
        "ones = np.ones([8,1])\n",
        "c = np.array([[1, 0, 0]])\n",
        "A = np.concatenate([np.concatenate([ones, np.transpose(x), ones], axis=1),np.concatenate([ones, -1*np.transpose(x),-1*ones], axis=1)])\n",
        "b = np.concatenate([np.transpose(y), -1*np.transpose(y)])\n",
        "residue = linprog(c,A_ub= -1*A ,b_ub = -1* b, bounds =[(None, None),(None, None),(None, None)])\n",
        "print('A = ',A)\n",
        "print('b = ',b)\n",
        "print(residue)"
      ],
      "metadata": {
        "colab": {
          "base_uri": "https://localhost:8080/"
        },
        "id": "WuhW1l0UDhcX",
        "outputId": "c567fb13-9921-4f10-e8ce-a760db037a45"
      },
      "execution_count": null,
      "outputs": [
        {
          "output_type": "stream",
          "name": "stdout",
          "text": [
            "A =  [[   1.    29.1    1. ]\n",
            " [   1.    48.2    1. ]\n",
            " [   1.    72.7    1. ]\n",
            " [   1.    92.     1. ]\n",
            " [   1.   118.     1. ]\n",
            " [   1.   140.     1. ]\n",
            " [   1.   165.     1. ]\n",
            " [   1.   199.     1. ]\n",
            " [   1.   -29.1   -1. ]\n",
            " [   1.   -48.2   -1. ]\n",
            " [   1.   -72.7   -1. ]\n",
            " [   1.   -92.    -1. ]\n",
            " [   1.  -118.    -1. ]\n",
            " [   1.  -140.    -1. ]\n",
            " [   1.  -165.    -1. ]\n",
            " [   1.  -199.    -1. ]]\n",
            "b =  [[ 0.0493]\n",
            " [ 0.0821]\n",
            " [ 0.123 ]\n",
            " [ 0.154 ]\n",
            " [ 0.197 ]\n",
            " [ 0.234 ]\n",
            " [ 0.274 ]\n",
            " [ 0.328 ]\n",
            " [-0.0493]\n",
            " [-0.0821]\n",
            " [-0.123 ]\n",
            " [-0.154 ]\n",
            " [-0.197 ]\n",
            " [-0.234 ]\n",
            " [-0.274 ]\n",
            " [-0.328 ]]\n",
            "     con: array([], dtype=float64)\n",
            "     fun: 0.0013911121475705113\n",
            " message: 'Optimization terminated successfully.'\n",
            "     nit: 6\n",
            "   slack: array([ 2.78222353e-03,  1.31341842e-03,  6.02647476e-04,  1.26191771e-03,\n",
            "        9.11711805e-04, -8.82581175e-10,  1.00941652e-03,  2.78222418e-03,\n",
            "        7.65538827e-10,  1.46880587e-03,  2.17957682e-03,  1.52030659e-03,\n",
            "        1.87051249e-03,  2.78222518e-03,  1.77280778e-03,  1.12968523e-10])\n",
            "  status: 0\n",
            " success: True\n",
            "       x: array([0.00139111, 0.00164038, 0.00295615])\n"
          ]
        },
        {
          "output_type": "stream",
          "name": "stderr",
          "text": [
            "/usr/local/lib/python3.7/dist-packages/numpy/core/fromnumeric.py:87: VisibleDeprecationWarning: Creating an ndarray from ragged nested sequences (which is a list-or-tuple of lists-or-tuples-or ndarrays with different lengths or shapes) is deprecated. If you meant to do this, you must specify 'dtype=object' when creating the ndarray\n",
            "  return ufunc.reduce(obj, axis, dtype, out, **passkwargs)\n"
          ]
        }
      ]
    },
    {
      "cell_type": "markdown",
      "source": [
        "The The above results show the matrix form of the set of equations to minimize discussed earlier. \\\\\n",
        "The system A*residue = b has been solved for the residue. "
      ],
      "metadata": {
        "id": "R6ie4fOqXoWy"
      }
    },
    {
      "cell_type": "code",
      "source": [
        "plt.scatter(x,y)\n",
        "plt.plot(x[0], 0.00164038*x[0] + 0.00295615,'r') "
      ],
      "metadata": {
        "colab": {
          "base_uri": "https://localhost:8080/",
          "height": 302
        },
        "id": "4KdnlgzsDk2a",
        "outputId": "7a840da7-18b6-452c-d345-e8919f6ffc01"
      },
      "execution_count": null,
      "outputs": [
        {
          "output_type": "execute_result",
          "data": {
            "text/plain": [
              "[<matplotlib.lines.Line2D at 0x7faa1fb88210>]"
            ]
          },
          "metadata": {},
          "execution_count": 52
        },
        {
          "output_type": "display_data",
          "data": {
            "image/png": "[encoded data removed]",
            "text/plain": [
              "<Figure size 432x288 with 1 Axes>"
            ]
          },
          "metadata": {
            "needs_background": "light"
          }
        }
      ]
    },
    {
      "cell_type": "markdown",
      "source": [
        "The data fits well above so we have found a pretty good estimate of the line y = ax + b. Here, a and b are 0.00164038 nd 0.00295615 respectively"
      ],
      "metadata": {
        "id": "KXPrcMx5Yhza"
      }
    },
    {
      "cell_type": "markdown",
      "source": [
        "3.2.3"
      ],
      "metadata": {
        "id": "Czwq2NuqDw3_"
      }
    },
    {
      "cell_type": "markdown",
      "source": [
        "This problem is solved in a similar way as the first problem involving setting up a linear program, minimizing the residual and converting it to a matrix problem and getting optimal values for the coefficients and residual "
      ],
      "metadata": {
        "id": "b6fL97MUahJx"
      }
    },
    {
      "cell_type": "code",
      "source": [
        "x = np.array([[0.1, 0.2, 0.3, 0.4, 0.5]])\n",
        "y = np.array([[0.06, 0.12, 0.36, 0.65, 0.95]])\n",
        "ones = np.ones([5,1])\n",
        "c = np.array([[1, 0, 0,0]])"
      ],
      "metadata": {
        "id": "Y-92Sl20DwXG"
      },
      "execution_count": null,
      "outputs": []
    },
    {
      "cell_type": "code",
      "source": [
        "A = np.concatenate([np.concatenate([ones, np.transpose(x)**2, np.transpose(x),ones], axis=1),np.concatenate([ones, -1*(np.transpose(x)**2), -1*np.transpose(x), -1*ones], axis=1)])\n",
        "b = np.concatenate([np.transpose(y), -1*np.transpose(y)])"
      ],
      "metadata": {
        "id": "e7aiq-7hD5O5"
      },
      "execution_count": null,
      "outputs": []
    },
    {
      "cell_type": "code",
      "source": [
        "res = linprog(c,A_ub= -1*A ,b_ub = -1* b, bounds =[(None, None),(None, None),( None, None),(None, None)])\n",
        "print(res)"
      ],
      "metadata": {
        "colab": {
          "base_uri": "https://localhost:8080/"
        },
        "id": "ZBaDVWurD98G",
        "outputId": "5ef29e53-8d3b-42da-e62a-75f9af6077f1"
      },
      "execution_count": null,
      "outputs": [
        {
          "output_type": "stream",
          "name": "stdout",
          "text": [
            "     con: array([], dtype=float64)\n",
            "     fun: 0.028333333405735184\n",
            " message: 'Optimization terminated successfully.'\n",
            "     nit: 7\n",
            "   slack: array([1.08228426e-10, 5.66666668e-02, 1.33333335e-02, 1.37896583e-10,\n",
            "       5.66666668e-02, 5.66666667e-02, 6.79646617e-12, 4.33333333e-02,\n",
            "       5.66666667e-02, 3.67965658e-11])\n",
            "  status: 0\n",
            " success: True\n",
            "       x: array([ 0.02833333,  4.        , -0.03333333, -0.005     ])\n"
          ]
        },
        {
          "output_type": "stream",
          "name": "stderr",
          "text": [
            "/usr/local/lib/python3.7/dist-packages/numpy/core/fromnumeric.py:87: VisibleDeprecationWarning: Creating an ndarray from ragged nested sequences (which is a list-or-tuple of lists-or-tuples-or ndarrays with different lengths or shapes) is deprecated. If you meant to do this, you must specify 'dtype=object' when creating the ndarray\n",
            "  return ufunc.reduce(obj, axis, dtype, out, **passkwargs)\n"
          ]
        }
      ]
    },
    {
      "cell_type": "markdown",
      "source": [
        "From the above, we know that the minimum residual is 0.02833 and $c_1=4, c_2= -0.033333, c_3= -0.005$ \n",
        "\n",
        "\n",
        "\n"
      ],
      "metadata": {
        "id": "UwOKNMFDZ3ZE"
      }
    },
    {
      "cell_type": "markdown",
      "source": [
        "3.3.4"
      ],
      "metadata": {
        "id": "TUcKQ1zZEEk-"
      }
    },
    {
      "cell_type": "markdown",
      "source": [
        "minimizing the largest deviation between the data and the model P = $ae^{bt}$ \\\\\n",
        "We estimate the parameters using transformed Least Squares Criterion (LSC) \\\\\n",
        "lnP = ln(a) + bt \\\\\n",
        "which can be compared to y = A +Bx\n",
        "where A = ln a and B = b \\\\"
      ],
      "metadata": {
        "id": "m8Ok5cevRUo7"
      }
    },
    {
      "cell_type": "code",
      "source": [
        "x = np.array([7, 14, 21, 28, 35, 42])\n",
        "P = np.array([8, 41, 133, 250, 280, 297])\n",
        "y = np.log(P)"
      ],
      "metadata": {
        "id": "4k5BCXWVEGod"
      },
      "execution_count": null,
      "outputs": []
    },
    {
      "cell_type": "code",
      "source": [
        " m=len(x) \n",
        " m"
      ],
      "metadata": {
        "colab": {
          "base_uri": "https://localhost:8080/"
        },
        "id": "BmaoQZkVEJEu",
        "outputId": "0ab0b7a4-3ea0-4816-e3c7-7cbb1956a577"
      },
      "execution_count": null,
      "outputs": [
        {
          "output_type": "execute_result",
          "data": {
            "text/plain": [
              "6"
            ]
          },
          "metadata": {},
          "execution_count": 74
        }
      ]
    },
    {
      "cell_type": "markdown",
      "source": [
        "Normal equations for a B and lna from the least squares criterion are \\\\\n",
        "B = $ \\frac{ N \\sum{xy}- \\sum{x} \\sum{y}} { N \\sum{x^2}-(\\sum{x})^2} $ \\\\\n",
        "and the intercept is given by \\\\\n",
        "lna = $\\frac{\\sum{y} -m\\sum{x}}{N}$"
      ],
      "metadata": {
        "id": "UDY7LPimfo9q"
      }
    },
    {
      "cell_type": "code",
      "source": [
        "b   = (m*sum(np.multiply(x,y))-sum(x)*sum(y))/(m*sum(x**2)-(sum(x)**2))\n",
        "lna = (sum(x**2)*sum(y) - sum(np.multiply(x,y)*sum(x))) / (m*sum(x**2) - sum(x)**2)"
      ],
      "metadata": {
        "id": "eTF2XJAyEMHQ"
      },
      "execution_count": null,
      "outputs": []
    },
    {
      "cell_type": "code",
      "source": [
        "a = np.exp(lna)\n",
        "print('a = ', a)\n",
        "print('b = ', b)"
      ],
      "metadata": {
        "colab": {
          "base_uri": "https://localhost:8080/"
        },
        "id": "hAxKvae6EQUB",
        "outputId": "1541fbac-0d88-4db5-bb1e-365524b5e8dd"
      },
      "execution_count": null,
      "outputs": [
        {
          "output_type": "stream",
          "name": "stdout",
          "text": [
            "a =  8.518746119531446\n",
            "b =  0.09986211177408025\n"
          ]
        }
      ]
    },
    {
      "cell_type": "markdown",
      "source": [
        "Therefore the final equation is P = $8.519e^{0.09986t}$ "
      ],
      "metadata": {
        "id": "lNXKoMxPEVPm"
      }
    },
    {
      "cell_type": "markdown",
      "source": [
        "3.3.8 a)"
      ],
      "metadata": {
        "id": "d-9-lrwHEkzs"
      }
    },
    {
      "cell_type": "code",
      "source": [
        "x = np.array([5, 10, 20, 30, 40, 50, 60, 70, 80, 90, 100])\n",
        "y = np.array([0, 19, 57, 94, 134, 173, 216, 256, 297, 343, 390])"
      ],
      "metadata": {
        "id": "3Ej8vk2RETHa"
      },
      "execution_count": null,
      "outputs": []
    },
    {
      "cell_type": "code",
      "source": [
        "#The model here is y=ax\n",
        "a_i=y/x \n",
        "a_i"
      ],
      "metadata": {
        "colab": {
          "base_uri": "https://localhost:8080/"
        },
        "id": "MnanNdbcEqV4",
        "outputId": "9d243adb-9fc4-42a9-8e8d-bf54553230a2"
      },
      "execution_count": null,
      "outputs": [
        {
          "output_type": "execute_result",
          "data": {
            "text/plain": [
              "array([0.        , 1.9       , 2.85      , 3.13333333, 3.35      ,\n",
              "       3.46      , 3.6       , 3.65714286, 3.7125    , 3.81111111,\n",
              "       3.9       ])"
            ]
          },
          "metadata": {},
          "execution_count": 21
        }
      ]
    },
    {
      "cell_type": "code",
      "source": [
        "sum(a_i)"
      ],
      "metadata": {
        "colab": {
          "base_uri": "https://localhost:8080/"
        },
        "id": "Oo9icS2REtbi",
        "outputId": "dd9517af-b129-4dcc-ba2e-40948624ce95"
      },
      "execution_count": null,
      "outputs": [
        {
          "output_type": "execute_result",
          "data": {
            "text/plain": [
              "33.3740873015873"
            ]
          },
          "metadata": {},
          "execution_count": 22
        }
      ]
    },
    {
      "cell_type": "code",
      "source": [
        "a = sum(a_i)/11\n",
        "print(a)"
      ],
      "metadata": {
        "colab": {
          "base_uri": "https://localhost:8080/"
        },
        "id": "i5S2NADYExLT",
        "outputId": "908d2d37-c8bb-4433-eaea-c46245923290"
      },
      "execution_count": null,
      "outputs": [
        {
          "output_type": "stream",
          "name": "stdout",
          "text": [
            "3.0340079365079364\n"
          ]
        }
      ]
    },
    {
      "cell_type": "markdown",
      "source": [
        "Model is given by the equation y = 3.034x"
      ],
      "metadata": {
        "id": "j7kVvzmJE58P"
      }
    },
    {
      "cell_type": "code",
      "source": [
        "plt.scatter(x,y,c='r')\n",
        "plt.plot(x, a*x)"
      ],
      "metadata": {
        "colab": {
          "base_uri": "https://localhost:8080/",
          "height": 302
        },
        "id": "nz-dYyp8FAyp",
        "outputId": "5f4c9c58-a787-4191-a9f5-ef2cae470aae"
      },
      "execution_count": null,
      "outputs": [
        {
          "output_type": "execute_result",
          "data": {
            "text/plain": [
              "[<matplotlib.lines.Line2D at 0x7faa20066a10>]"
            ]
          },
          "metadata": {},
          "execution_count": 24
        },
        {
          "output_type": "display_data",
          "data": {
            "image/png": "[encoded data removed]",
            "text/plain": [
              "<Figure size 432x288 with 1 Axes>"
            ]
          },
          "metadata": {
            "needs_background": "light"
          }
        }
      ]
    },
    {
      "cell_type": "markdown",
      "source": [
        "b)"
      ],
      "metadata": {
        "id": "D9jfRcQoFHQ6"
      }
    },
    {
      "cell_type": "code",
      "source": [
        "#Model here is y = ax+b, we use LSC, same slope and intercept as the previous question \n",
        "m = len(x)\n",
        "a = (m*sum(np.multiply(x,y))-sum(x)*sum(y))/(m*sum(x**2)-(sum(x)**2))\n",
        "b = (sum(x**2)*sum(y) - sum(np.multiply(x,y)*sum(x))) / (m*sum(x**2) - sum(x)**2)\n",
        "print(a,b)"
      ],
      "metadata": {
        "colab": {
          "base_uri": "https://localhost:8080/"
        },
        "id": "jMXz9qnkFIOG",
        "outputId": "e4d2d25d-6085-46a2-88c2-922de7844cfd"
      },
      "execution_count": null,
      "outputs": [
        {
          "output_type": "stream",
          "name": "stdout",
          "text": [
            "4.0693304535637145 -25.407127429805616\n"
          ]
        }
      ]
    },
    {
      "cell_type": "markdown",
      "source": [
        "The equation for this model is y = 4.0693x - 25.407"
      ],
      "metadata": {
        "id": "oDtsI07sFuho"
      }
    },
    {
      "cell_type": "code",
      "source": [
        "plt.scatter(x,y,c='r')\n",
        "plt.plot(x, a*x+b)"
      ],
      "metadata": {
        "colab": {
          "base_uri": "https://localhost:8080/",
          "height": 302
        },
        "id": "9LvLTxISF0XM",
        "outputId": "413ea7b3-80fd-4c60-eef6-20dcb24b28f8"
      },
      "execution_count": null,
      "outputs": [
        {
          "output_type": "execute_result",
          "data": {
            "text/plain": [
              "[<matplotlib.lines.Line2D at 0x7faa1ffe1c90>]"
            ]
          },
          "metadata": {},
          "execution_count": 26
        },
        {
          "output_type": "display_data",
          "data": {
            "image/png": "[encoded data removed]",
            "text/plain": [
              "<Figure size 432x288 with 1 Axes>"
            ]
          },
          "metadata": {
            "needs_background": "light"
          }
        }
      ]
    },
    {
      "cell_type": "markdown",
      "source": [
        "c) "
      ],
      "metadata": {
        "id": "e2xilqOpF7Ud"
      }
    },
    {
      "cell_type": "markdown",
      "source": [
        "Model we're looking to fit here is y = ax^2\\\\ \n",
        "Given the equation in the book, we see that for n = 2 \\\\\n",
        "$ln y = ln a_1 + 2 lnx$ \\\\\n",
        "We apply LSC to the transformed data $x^2$,y and use the normal equations discussed above. "
      ],
      "metadata": {
        "id": "m-RbC2TCiXNl"
      }
    },
    {
      "cell_type": "code",
      "source": [
        "a = np.sum(np.multiply(x**2,y)) / np.sum(x**4) \n",
        "print(a)"
      ],
      "metadata": {
        "colab": {
          "base_uri": "https://localhost:8080/"
        },
        "id": "UIXKjAVVF80k",
        "outputId": "2caa9f34-c64b-4077-b798-9b041645cf19"
      },
      "execution_count": null,
      "outputs": [
        {
          "output_type": "stream",
          "name": "stdout",
          "text": [
            "0.04487140076333053\n"
          ]
        }
      ]
    },
    {
      "cell_type": "markdown",
      "source": [
        "The equation for this model looks like y = $0.04487x^2$"
      ],
      "metadata": {
        "id": "NY1OMy-CGFOF"
      }
    },
    {
      "cell_type": "code",
      "source": [
        "plt.scatter(x,y,c='r')\n",
        "plt.plot(x, a*x*x)"
      ],
      "metadata": {
        "colab": {
          "base_uri": "https://localhost:8080/",
          "height": 302
        },
        "id": "gUXd7iDXGVOE",
        "outputId": "9584145d-7712-4a2c-a0ce-04286724865c"
      },
      "execution_count": null,
      "outputs": [
        {
          "output_type": "execute_result",
          "data": {
            "text/plain": [
              "[<matplotlib.lines.Line2D at 0x7faa1ff5a850>]"
            ]
          },
          "metadata": {},
          "execution_count": 28
        },
        {
          "output_type": "display_data",
          "data": {
            "image/png": "[encoded data removed]",
            "text/plain": [
              "<Figure size 432x288 with 1 Axes>"
            ]
          },
          "metadata": {
            "needs_background": "light"
          }
        }
      ]
    },
    {
      "cell_type": "markdown",
      "source": [
        "This does not look like a good fit because the data is mostly linear"
      ],
      "metadata": {
        "id": "zhxH-qm1jUCX"
      }
    },
    {
      "cell_type": "markdown",
      "source": [
        "3.4.7"
      ],
      "metadata": {
        "id": "UUmIKcKeGiUF"
      }
    },
    {
      "cell_type": "code",
      "source": [
        "l = np.array([14.5, 12.5, 17.25, 14.5, 12.625, 17.75, 14.125, 12.625])\n",
        "W = np.array([27, 17, 41, 26, 17, 49, 23, 16])"
      ],
      "metadata": {
        "id": "aRdlZ-bRGlQI"
      },
      "execution_count": null,
      "outputs": []
    },
    {
      "cell_type": "markdown",
      "source": [
        "The model we are trying to fit is W = $kl^3$.\n",
        "We have n = 3 and using the normal equation, "
      ],
      "metadata": {
        "id": "E5Yr9kmbjmfT"
      }
    },
    {
      "cell_type": "code",
      "source": [
        "k = np.sum(np.multiply(l**3,W)) / np.sum(l**6)\n",
        "print(k)"
      ],
      "metadata": {
        "colab": {
          "base_uri": "https://localhost:8080/"
        },
        "id": "H7gC_xA1Gn1e",
        "outputId": "d0c187bf-f359-4b3b-d1c4-c1054b4bb040"
      },
      "execution_count": null,
      "outputs": [
        {
          "output_type": "stream",
          "name": "stdout",
          "text": [
            "0.008436760675206318\n"
          ]
        }
      ]
    },
    {
      "cell_type": "code",
      "source": [
        "plt.scatter(l,W,c='r')\n",
        "plt.plot(l, k*l*l*l)"
      ],
      "metadata": {
        "colab": {
          "base_uri": "https://localhost:8080/",
          "height": 302
        },
        "id": "w0f9MKYHGu1U",
        "outputId": "2d542aea-232a-449c-e4d0-e036ef827344"
      },
      "execution_count": null,
      "outputs": [
        {
          "output_type": "execute_result",
          "data": {
            "text/plain": [
              "[<matplotlib.lines.Line2D at 0x7faa1f65a090>]"
            ]
          },
          "metadata": {},
          "execution_count": 83
        },
        {
          "output_type": "display_data",
          "data": {
            "image/png": "[encoded data removed]",
            "text/plain": [
              "<Figure size 432x288 with 1 Axes>"
            ]
          },
          "metadata": {
            "needs_background": "light"
          }
        }
      ]
    },
    {
      "cell_type": "code",
      "source": [
        "res_a = W - (k*(l*l*l))\n",
        "print(\"residue a = \",res_a)\n",
        "#Acc to CAC we need to take the max of these \n",
        "CAC_a = max(abs(res_a))\n",
        "print(\"CAC = \", CAC_a)\n",
        "RMSE_a = np.sqrt(np.sum(res_a**2)/len(res_a)) \n",
        "print(\"RMSE= \", RMSE_a)"
      ],
      "metadata": {
        "colab": {
          "base_uri": "https://localhost:8080/"
        },
        "id": "zgGdrv_vGw-h",
        "outputId": "6c09f6e2-e8eb-4a2a-dd73-20405deab77c"
      },
      "execution_count": null,
      "outputs": [
        {
          "output_type": "stream",
          "name": "stdout",
          "text": [
            "residue a =  [ 1.27948049  0.52195181 -2.30549707  0.27948049  0.02265047  1.81860234\n",
            " -0.7761263  -0.97734953]\n",
            "CAC =  2.305497072677376\n",
            "RMSE=  1.2333056075860789\n"
          ]
        }
      ]
    },
    {
      "cell_type": "markdown",
      "source": [
        "b)"
      ],
      "metadata": {
        "id": "hPUv_oPGGzi7"
      }
    },
    {
      "cell_type": "code",
      "source": [
        " g = np.array([9.75, 8.375, 11.0, 9.75, 8.5, 12.5, 9.0, 8.5])"
      ],
      "metadata": {
        "id": "v7uFwPNLG0mh"
      },
      "execution_count": null,
      "outputs": []
    },
    {
      "cell_type": "markdown",
      "source": [
        "The equation for this model is W = klg^2\n",
        "We will be taking x = g^2 hence, n = 2"
      ],
      "metadata": {
        "id": "FwzwpFJ2kTX3"
      }
    },
    {
      "cell_type": "code",
      "source": [
        "k = np.sum(np.multiply(np.multiply(g*g,l),W)) / np.sum(np.multiply(l*l,g*g*g*g ))\n",
        "print(k)"
      ],
      "metadata": {
        "colab": {
          "base_uri": "https://localhost:8080/"
        },
        "id": "aX9oXT4UG2Pg",
        "outputId": "952c1363-f642-4499-8aa7-2d18abb15a50"
      },
      "execution_count": null,
      "outputs": [
        {
          "output_type": "stream",
          "name": "stdout",
          "text": [
            "0.018675110215167733\n"
          ]
        }
      ]
    },
    {
      "cell_type": "markdown",
      "source": [
        "The model becomes W = 0.0186$g^2$"
      ],
      "metadata": {
        "id": "x6mYHAsVG5bb"
      }
    },
    {
      "cell_type": "code",
      "source": [
        "res_b = W - (k*g*g*l)\n",
        "CAC_b = max(abs(res_b))\n",
        "RMSE_b = np.sqrt(np.sum(res_b**2)/len(res_b))\n",
        "print(\"CAC =\",CAC_b, \" and RMSE = \", RMSE_b)"
      ],
      "metadata": {
        "colab": {
          "base_uri": "https://localhost:8080/"
        },
        "id": "cbVX2tzTG_Tg",
        "outputId": "a5c891c8-2b55-47ed-9c30-96f041e3bc7b"
      },
      "execution_count": null,
      "outputs": [
        {
          "output_type": "stream",
          "name": "stdout",
          "text": [
            "CAC = 2.7942509873792574  and RMSE =  1.4862325386854711\n"
          ]
        }
      ]
    },
    {
      "cell_type": "markdown",
      "source": [
        "3.4.8"
      ],
      "metadata": {
        "id": "oCk_DUyxHBqX"
      }
    },
    {
      "cell_type": "markdown",
      "source": [
        "We are continuing to work with the data from 3.4.7. \\\\\n",
        "The equation for the model in question is W = cg^3 "
      ],
      "metadata": {
        "id": "EeqZW5Dkk2rc"
      }
    },
    {
      "cell_type": "code",
      "source": [
        "c = np.sum(np.multiply(g**3,W)) / np.sum(g**6) \n",
        "print(c)"
      ],
      "metadata": {
        "colab": {
          "base_uri": "https://localhost:8080/"
        },
        "id": "IAPCP3ifHCr_",
        "outputId": "c51e0285-ba58-46da-99b0-21977a17eab7"
      },
      "execution_count": null,
      "outputs": [
        {
          "output_type": "stream",
          "name": "stdout",
          "text": [
            "0.02757821830681667\n"
          ]
        }
      ]
    },
    {
      "cell_type": "markdown",
      "source": [
        "Model is W = 0.02758$g^3$"
      ],
      "metadata": {
        "id": "Iehf6Wa3HKE4"
      }
    },
    {
      "cell_type": "code",
      "source": [
        "res_c = W - (c*(g*g*g))\n",
        "CAC_c = max(abs(res_c))\n",
        "RMSE_c = np.sqrt(np.sum(res_c**2)/len(res_c))\n",
        "print(CAC_c, RMSE_c)"
      ],
      "metadata": {
        "colab": {
          "base_uri": "https://localhost:8080/"
        },
        "id": "bNn5uoH8HTY-",
        "outputId": "dd77089b-d9c0-45ab-e5d2-969b1546d4fd"
      },
      "execution_count": null,
      "outputs": [
        {
          "output_type": "stream",
          "name": "stdout",
          "text": [
            "4.86370763050131 2.60423439467796\n"
          ]
        }
      ]
    },
    {
      "cell_type": "markdown",
      "source": [
        "The last model we are looking for is W = $kgl^2$ \\\\\n",
        "We take $gl^2$ as our x here"
      ],
      "metadata": {
        "id": "iPILT3JvlD3r"
      }
    },
    {
      "cell_type": "code",
      "source": [
        "k = np.sum(np.multiply(np.multiply(l*l,g),W)) / np.sum(np.multiply(g*g,l*l*l*l ))\n",
        "print(k)"
      ],
      "metadata": {
        "colab": {
          "base_uri": "https://localhost:8080/"
        },
        "id": "f2wv3fgtHYry",
        "outputId": "b3acf4c8-fdf0-451d-8029-6f7644dbb4e0"
      },
      "execution_count": null,
      "outputs": [
        {
          "output_type": "stream",
          "name": "stdout",
          "text": [
            "0.012583877271935714\n"
          ]
        }
      ]
    },
    {
      "cell_type": "code",
      "source": [
        "res_d = W - (k*g*l*l)\n",
        "CAC_d = max(abs(res_d))\n",
        "RMSE_d = np.sqrt(np.sum(res_d**2)/len(res_d))\n",
        "print(CAC_d, RMSE_d)"
      ],
      "metadata": {
        "colab": {
          "base_uri": "https://localhost:8080/"
        },
        "id": "5qpTQ3gVHbP1",
        "outputId": "64c88d9d-c50f-453e-f946-85c95d88b68c"
      },
      "execution_count": null,
      "outputs": [
        {
          "output_type": "stream",
          "name": "stdout",
          "text": [
            "1.2038380848612817 0.6508200076607843\n"
          ]
        }
      ]
    },
    {
      "cell_type": "markdown",
      "source": [
        "Looking through all our values, we have: \\\\\n",
        "Model 1: 2.305 , 1.2333 \\\\\n",
        "Model 2: 2.7943, 1.4862 \\\\\n",
        "Model 3: 4.8637, 2.604  \\\\\n",
        "Model 4: 1.2038, 0.6508 \\\\"
      ],
      "metadata": {
        "id": "ZvrqUEHUHetO"
      }
    },
    {
      "cell_type": "markdown",
      "source": [
        "Since the residue is minimized the most in model 4, it is our best model, followed by model 1, 2 and 3(worst model)"
      ],
      "metadata": {
        "id": "8aqBQtkKlonC"
      }
    }
  ]
}