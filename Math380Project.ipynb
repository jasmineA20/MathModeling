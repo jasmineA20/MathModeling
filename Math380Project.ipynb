{
  "nbformat": 4,
  "nbformat_minor": 0,
  "metadata": {
    "colab": {
      "name": "Math380Project.ipynb",
      "provenance": [],
      "authorship_tag": "ABX9TyOMPscSzJQSuB4aCGVg/2O2",
      "include_colab_link": true
    },
    "kernelspec": {
      "name": "python3",
      "display_name": "Python 3"
    },
    "language_info": {
      "name": "python"
    }
  },
  "cells": [
    {
      "cell_type": "markdown",
      "metadata": {
        "id": "view-in-github",
        "colab_type": "text"
      },
      "source": [
        "<a href=\"https://colab.research.google.com/github/jasmineA20/MathModeling/blob/main/Math380Project.ipynb\" target=\"_parent\"><img src=\"https://colab.research.google.com/assets/colab-badge.svg\" alt=\"Open In Colab\"/></a>"
      ]
    },
    {
      "cell_type": "markdown",
      "source": [
        "This is a linear optimization approach to the scheduling problem. "
      ],
      "metadata": {
        "id": "2HGdLR7-QXVw"
      }
    },
    {
      "cell_type": "markdown",
      "source": [
        "The decision variables are : \\\\\n",
        "i : Couse + Section \\\\\n",
        "j : Room    \\\\\n",
        "k : Day of the week  \\\\\n",
        "l : Time slot of the day  \\\\"
      ],
      "metadata": {
        "id": "gYvy_2BaUiua"
      }
    },
    {
      "cell_type": "markdown",
      "source": [
        "Additional Variables to Consider: \\\\\n",
        "N : Number of students registered for the course \\\\\n",
        "C : Course capacity (Considering size of the room and number of students the instructor can teach)    \n"
      ],
      "metadata": {
        "id": "YbP5qdhqVaNO"
      }
    },
    {
      "cell_type": "markdown",
      "source": [
        "Variables to consider for Constraints: "
      ],
      "metadata": {
        "id": "rN9dHokYWc8o"
      }
    },
    {
      "cell_type": "markdown",
      "source": [
        "Objective Function \\\\\n",
        "\n",
        "max $\\sum_{i \\in I}$  $\\sum_{j \\in J}$ $\\sum _{k \\in K}$ $\\sum_ {l \\in L} $ $x_{ijkl}$ * $\\frac{N}{C} $ "
      ],
      "metadata": {
        "id": "Z5CUcqGgb-c2"
      }
    },
    {
      "cell_type": "markdown",
      "source": [
        "Constraints: \n",
        "\n",
        "Capacity: \\\\\n",
        "Day : \\\\\n",
        "Time slot and room constant: \\\\\n",
        "Same slot everyday for classes that run for multiple days : \\\\"
      ],
      "metadata": {
        "id": "PjrVvbBidZJ5"
      }
    },
    {
      "cell_type": "code",
      "source": [
        "import numpy as np\n",
        "import pandas as pd  \n",
        "import cvxpy\n",
        "import math "
      ],
      "metadata": {
        "id": "TvNJCSIjV97y"
      },
      "execution_count": 40,
      "outputs": []
    },
    {
      "cell_type": "code",
      "source": [
        "def stage_one(prof_course_teaching_availability): \n",
        "  selection = cvxpy.Variable(prof_course_teaching_availability.shape, boolean=True)\n",
        "  one_course_per_prof_constraint = cvxpy.sum(selection, axis=0) == 1 \n",
        "  min_courses_constraint = cvxpy.sum(selection, axis=1) >= 1\n",
        "  max_courses_constraint = cvxpy.sum(selection, axis=1) <= 3\n",
        "  constraints = [one_course_per_prof_constraint, min_courses_constraint, max_courses_constraint]\n",
        "  cost = cvxpy.sum(cvxpy.multiply(prof_course_teaching_availability, selection))\n",
        "  problem = cvxpy.Problem(cvxpy.Maximize(cost), constraints=constraints)\n",
        "  opt_cost = problem.solve(solver=cvxpy.GLPK_MI)\n",
        "\n",
        "  return problem, opt_cost, selection.value"
      ],
      "metadata": {
        "id": "p4ODzyi_64lA"
      },
      "execution_count": 41,
      "outputs": []
    },
    {
      "cell_type": "code",
      "source": [
        "def stage_two(stage_one_res, time_slot_costs, course_costs, preference_weights, s2_type='baseline'):\n",
        "  selection  = cvxpy.Variable((time_slot_costs.shape), boolean=True)\n",
        "  constraints = [] \n",
        "\n",
        "  prof_count = stage_one_res.shape[0]\n",
        "  course_count = stage_one_res.shape[1]\n",
        "\n",
        "  time_slot_count = time_slot_costs.shape[1] \n",
        "  \n",
        "\n",
        "  # Regular Constraints \n",
        "  one_for_each_course_constraint = cvxpy.sum(selection, axis=1) == np.ones(course_count)  \n",
        "  constraints.append(one_for_each_course_constraint)\n",
        "\n",
        "  one_timeslot_per_course_no_conflicts = cvxpy.matmul(stage_one_res,selection) <= np.ones((prof_count, time_slot_count)) \n",
        "  constraints.append(one_timeslot_per_course_no_conflicts)\n",
        "\n",
        "  course_costs_constraint =  cvxpy.sum(cvxpy.multiply(selection, time_slot_costs) , axis=1) == course_costs \n",
        "  constraints.append(course_costs_constraint) \n",
        "\n",
        "  if s2_type == 'baseline':\n",
        "    max_courses_per_timeslot_constraint = cvxpy.sum(selection, axis=0) <= 6\n",
        "    constraints.append(max_courses_per_timeslot_constraint)\n",
        "  \n",
        "    min_courses_per_timeslot_constraint = cvxpy.sum(selection, axis=0) >= 2\n",
        "    constraints.append(min_courses_per_timeslot_constraint)\n",
        "\n",
        "  elif s2_type =='preferences_no_min': \n",
        "    max_courses_per_timeslot_constraint = cvxpy.sum(selection, axis=0) <= 6\n",
        "    constraints.append(max_courses_per_timeslot_constraint)\n",
        "  \n",
        "  elif s2_type == 'preferences_no_max': \n",
        "    min_courses_per_timeslot_constraint = cvxpy.sum(selection, axis=0) >= 2\n",
        "    constraints.append(min_courses_per_timeslot_constraint)\n",
        "  elif s2_type == 'preferences_no_min_no_max': \n",
        "    pass \n",
        "  else: \n",
        "    print('Invalid Stage 2 Type')\n",
        "    return \n",
        "\n",
        "\n",
        "  # Conflict Prevention Constraints \n",
        "\n",
        "  # # MWF / MW / WF conflict handling\n",
        "  for i in range(course_count):\n",
        "    for j in range(7): \n",
        "      # print(i,j)\n",
        "      new_cons = selection[i][j] + selection[i][j+7] + selection[i][j+14] <= 1\n",
        "      constraints.append(new_cons) \n",
        "\n",
        "  # M T W R F single night course conflict handling \n",
        "\n",
        "  # M\n",
        "  for i in range(course_count): \n",
        "    constraints.append(selection[i][6] + selection[i][13] + selection[i][28]<=1)\n",
        "\n",
        "  # W\n",
        "  for i in range(course_count): \n",
        "    constraints.append(selection[i][6] + selection[i][13] + selection[i][20] + selection[i][30]<=1)\n",
        "\n",
        "  # # F\n",
        "  for i in range(course_count): \n",
        "    constraints.append(selection[i][6] + selection[i][20] + selection[i][32]<=1)\n",
        "\n",
        "\n",
        "  # T and R\n",
        "  for i in range(course_count): \n",
        "    constraints.append(selection[i][27] + selection[i][29]<=1)\n",
        "    constraints.append(selection[i][27] + selection[i][31]<=1)\n",
        "\n",
        "  cost = cvxpy.sum(cvxpy.multiply(preference_weights, selection)) \n",
        "\n",
        "  problem = cvxpy.Problem(cvxpy.Maximize(cost), constraints=constraints)\n",
        "  opt_cost = problem.solve(solver=cvxpy.GLPK_MI)\n",
        "  \n",
        "\n",
        "  return problem, opt_cost, selection.value"
      ],
      "metadata": {
        "id": "2GX1oUIT7Kl6"
      },
      "execution_count": 42,
      "outputs": []
    },
    {
      "cell_type": "code",
      "source": [
        "def stage_three(stage_two_res, room_slot_costs, course_size_costs): \n",
        "  selection  = cvxpy.Variable((room_slot_costs.shape), boolean=True)\n",
        "\n",
        "  constraints = [] \n",
        "\n",
        "  course_count = stage_two_res.shape[0]\n",
        "  time_slot_count = stage_two_res.shape[1]\n",
        "\n",
        "  room_slot_count = room_slot_costs.shape[0] \n",
        "\n",
        "\n",
        "  # Constraints  \n",
        "  one_for_each_course_constraint = cvxpy.sum(selection, axis=0) == np.ones(course_count) \n",
        "  constraints.append(one_for_each_course_constraint)\n",
        "\n",
        "  course_costs_constraint =  cvxpy.sum(cvxpy.multiply(selection, room_slot_costs) , axis=0) >= course_size_costs\n",
        "  constraints.append(course_costs_constraint) \n",
        "\n",
        "  one_timeslot_per_course_no_conflicts = cvxpy.matmul(selection, stage_two_res) <= np.ones((room_slot_count, time_slot_count)) \n",
        "  constraints.append(one_timeslot_per_course_no_conflicts) \n",
        "\n",
        "  \n",
        "  # Objective function and evaluation\n",
        "\n",
        "  cost = cvxpy.sum(cvxpy.multiply(np.ones(selection.shape), selection))\n",
        "  problem = cvxpy.Problem(cvxpy.Minimize(cost), constraints=constraints)\n",
        "  opt_cost = problem.solve(solver=cvxpy.GLPK_MI)\n",
        "  \n",
        "  return problem, opt_cost, selection.value"
      ],
      "metadata": {
        "id": "7UQtKXpX7P7-"
      },
      "execution_count": 43,
      "outputs": []
    },
    {
      "cell_type": "code",
      "source": [
        "# Load the dictionary of time slots for lookup purposes\n",
        "\n",
        "def load_time_slot_dict(): \n",
        "  time_slot_dict = {} \n",
        "\n",
        "  #MWF Classes\n",
        "  time_slot_dict[0] = ['MWF', '08:35-9:50']\n",
        "  time_slot_dict[1] = ['MWF', '10:00-11:15']\n",
        "  time_slot_dict[2] = ['MWF', '11:15-12:40']\n",
        "  time_slot_dict[3] = ['MWF', '13:50-15:05']\n",
        "  time_slot_dict[4] = ['MWF', '15:15-16:30']\n",
        "  time_slot_dict[5] = ['MWF', '17:00-18:15']\n",
        "  time_slot_dict[6] = ['MWF', '18:25-19:40']\n",
        "\n",
        "  #MW Classes\n",
        "  time_slot_dict[7] = ['MW', '08:35-9:50']\n",
        "  time_slot_dict[8] = ['MW', '10:00-11:15']\n",
        "  time_slot_dict[9] = ['MW', '11:15-12:40']\n",
        "  time_slot_dict[10] = ['MW', '13:50-15:05']\n",
        "  time_slot_dict[11] = ['MW', '15:15-16:30']\n",
        "  time_slot_dict[12] = ['MW', '17:00-18:15']\n",
        "  time_slot_dict[13] = ['MW', '18:25-19:40']\n",
        "\n",
        "  #WF Classes\n",
        "  time_slot_dict[14] = ['WF', '08:35-9:50']\n",
        "  time_slot_dict[15] = ['WF', '10:00-11:15']\n",
        "  time_slot_dict[16] = ['WF', '11:15-12:40']\n",
        "  time_slot_dict[17] = ['WF', '13:50-15:05']\n",
        "  time_slot_dict[18] = ['WF', '15:15-16:30']\n",
        "  time_slot_dict[19] = ['WF', '17:00-18:15']\n",
        "  time_slot_dict[20] = ['WF', '18:25-19:40']\n",
        "\n",
        "  #Tues/Thurs Classes\n",
        "  time_slot_dict[21] = ['TR', '08:35-9:50']\n",
        "  time_slot_dict[22] = ['TR', '10:00-11:15']\n",
        "  time_slot_dict[23] = ['TR', '11:15-12:40']\n",
        "  time_slot_dict[24] = ['TR', '13:50-15:05']\n",
        "  time_slot_dict[25] = ['TR', '15:15-16:30']\n",
        "  time_slot_dict[26] = ['TR', '17:00-18:15']\n",
        "  time_slot_dict[27] = ['TR', '18:25-19:40']\n",
        "\n",
        "  #2.5 hour classes throughout the week\n",
        "  time_slot_dict[28] = ['M', '18:25-21:05']\n",
        "  time_slot_dict[29] = ['T', '18:25-21:05']\n",
        "  time_slot_dict[30] = ['W', '18:25-21:05']\n",
        "  time_slot_dict[31] = ['R', '18:25-21:05']\n",
        "  time_slot_dict[32] = ['F', '18:25-21:05']\n",
        "  time_slot_dict[33] = ['S', '09:00-11:40']\n",
        "  time_slot_dict[34] = ['S', '13:00-15:40']\n",
        "\n",
        "  return time_slot_dict\n",
        "\n",
        "\n",
        "# Load the dictionary of rooms for lookup purposes\n",
        "\n",
        "def load_rooms_dict(): \n",
        "  rooms_dict = {} \n",
        "\n",
        "  rooms_dict[0] = [1 , \"RE 102\"]\n",
        "  rooms_dict[1] = [2, \"RE 106\"]\n",
        "  rooms_dict[2] = [2, \"RE 122\"]\n",
        "  rooms_dict[3] = [2, \"RE 124\"]\n",
        "  rooms_dict[4] = [2, \"RE 121\"]\n",
        "  rooms_dict[5] = [2, \"RE 119\"]\n",
        "  rooms_dict[6] = [1, \"RE 103\"]\n",
        "  rooms_dict[7] = [3, \"RE 104\"]\n",
        "\n",
        "  rooms_dict[8] = [2, \"RE 242\"]\n",
        "  rooms_dict[9] = [2, \"RE 258\"]\n",
        "\n",
        "  rooms_dict[10] = [2, \"RE 036\"]\n",
        "  rooms_dict[11] = [2, \"RE 032\"]\n",
        "  rooms_dict[12] = [2, \"RE 026\"]\n",
        "  rooms_dict[13] = [2, \"RE 025\"]\n",
        "  rooms_dict[14] = [2, \"RE 027\"]\n",
        "\n",
        "  #Pritzker\n",
        "  rooms_dict[15] = [2, \"PS 121\"]\n",
        "  rooms_dict[16] = [2, \"PS 129\"]\n",
        "  rooms_dict[17] = [3, \"PS 111\"]\n",
        "  rooms_dict[18] = [2, \"PS 152\"]\n",
        "  rooms_dict[19] = [2, \"PS 240\"]\n",
        "  rooms_dict[20] = [2, \"PS 213\"]\n",
        "\n",
        "  #Stuart\n",
        "  rooms_dict[21] = [3, \"SB 104\"]\n",
        "  rooms_dict[22] = [3, \"SB 111\"]\n",
        "  rooms_dict[23] = [3, \"SB 113\"]\n",
        "  rooms_dict[24] = [2, \"SB 225\"]\n",
        "  rooms_dict[25] = [2, \"SB 213\"]\n",
        "\n",
        "\n",
        "  return rooms_dict\n"
      ],
      "metadata": {
        "id": "YBWwa3us7SCc"
      },
      "execution_count": 44,
      "outputs": []
    },
    {
      "cell_type": "code",
      "source": [
        "def process_data(file_name): \n",
        "  # Read in the .xls data file and process the data into the required input matrices\n",
        "\n",
        "  df = pd.read_excel(file_name)\n",
        "  df['Course'] = df['Course Subject']+df['Course Number'].astype('str')\n",
        "  input = df[['Course Code','Course', 'Course Title','Day counts','Room size needed']]\n",
        "\n",
        "  num_course_sections = input.shape[0]\n",
        "\n",
        "  prof_dict = {} \n",
        "\n",
        "  course_lst_index = {}\n",
        "  prof_lst_index = {}\n",
        "\n",
        "  teaching_availability_dict = {} \n",
        "\n",
        "  for index, row in df.iterrows():\n",
        "    prof = row['Primary Instructor']  \n",
        "\n",
        "    course = row['Course Subject'] + str(row['Course Number'])\n",
        "\n",
        "    c_len = len(course_lst_index)\n",
        "    p_len = len(prof_lst_index)\n",
        "\n",
        "    if course not in course_lst_index.keys(): course_lst_index[course] = c_len \n",
        "    if prof not in prof_lst_index.keys(): prof_lst_index[prof] = p_len \n",
        "\n",
        "    if prof in prof_dict.keys(): \n",
        "      prof_dict[prof].append(course )\n",
        "    else: \n",
        "      prof_dict[prof] = [course]\n",
        "\n",
        "    if course in teaching_availability_dict.keys(): \n",
        "      if prof not in teaching_availability_dict[course]: \n",
        "        teaching_availability_dict[course].append(prof)\n",
        "    else: \n",
        "      teaching_availability_dict[course] = [prof]\n",
        "\n",
        "  prof_lst_index_reverse = {v: k for k, v in prof_lst_index.items()}\n",
        "  course_lst_index_reverse =  {v: k for k, v in course_lst_index.items()} \n",
        "\n",
        "  num_profs = len(prof_lst_index)\n",
        "  prof_course_teaching_availability = np.zeros((num_profs, num_course_sections))\n",
        "\n",
        "  for i in range(num_profs): \n",
        "    for j in range(num_course_sections):\n",
        "      prof = prof_lst_index_reverse[i] \n",
        "      course =  input['Course'][j]\n",
        "      \n",
        "      if prof in teaching_availability_dict[course]: \n",
        "        prof_course_teaching_availability[i][j] = 1\n",
        "\n",
        "  course_costs = input['Day counts'].values\n",
        "\n",
        "\n",
        "  time_slot_dict = load_time_slot_dict()\n",
        "\n",
        "  num_time_slots = len(time_slot_dict)\n",
        "\n",
        "  time_slot_costs = np.zeros((num_course_sections, num_time_slots))\n",
        "\n",
        "  for i in range(num_time_slots): \n",
        "    time_slot_costs[:,i] = len(time_slot_dict[i][0])*np.ones(time_slot_costs[:,i].shape[0])\n",
        "\n",
        "\n",
        "  rooms_dict = load_rooms_dict()\n",
        "\n",
        "  num_rooms =  len(rooms_dict)\n",
        "  room_slot_costs = np.zeros((num_course_sections,num_rooms))\n",
        "\n",
        "\n",
        "  for i in range(num_rooms): \n",
        "    room_slot_costs[:,i] = rooms_dict[i][0]*np.ones(room_slot_costs[:,i].shape[0])\n",
        "\n",
        "  room_slot_costs = room_slot_costs.T\n",
        "\n",
        "  \n",
        "\n",
        "  course_size_costs = input['Room size needed'].values\n",
        "\n",
        "  # Stage 1 input: prof_course_teaching_availability\n",
        "  # Stage 2 input: stage 1 result, time_slot_costs, course_costs\n",
        "  # Stage 3 input: stage 2 result,  room_slot_costs, course_size_costs \n",
        "\n",
        "  return df, prof_lst_index_reverse, course_lst_index_reverse,  prof_course_teaching_availability,  time_slot_costs, course_costs, course_size_costs, room_slot_costs"
      ],
      "metadata": {
        "id": "FBNPtzc27T55"
      },
      "execution_count": 45,
      "outputs": []
    },
    {
      "cell_type": "code",
      "source": [
        "def parse_results(df, prof_lst_index_reverse, stage_one_result, stage_two_result, stage_three_result,output_name, output=False): \n",
        "  res = [] \n",
        "\n",
        "  time_slot_dict = load_time_slot_dict()\n",
        "  rooms_dict = load_rooms_dict()\n",
        "\n",
        "  for i in range(stage_one_result.shape[0]):  #number of profs\n",
        "    \n",
        "    for j in range(stage_one_result.shape[1]):  #number of courses \n",
        "      \n",
        "    \n",
        "      if stage_one_result[i][j] == 1: \n",
        "        tmp_lst = [] \n",
        "        tmp_lst.append(prof_lst_index_reverse[i])\n",
        "        tmp_lst.append(df['Course Code'][j]) \n",
        "  \n",
        "        for k in range(stage_two_result.shape[1]): # number of time slots\n",
        "          if stage_two_result[j][k] == 1: \n",
        "            tmp_lst.append(time_slot_dict[k][0])\n",
        "            tmp_lst.append(time_slot_dict[k][1])\n",
        "\n",
        "        # print(stage_three_result.shape[1])\n",
        "        for k in range(stage_three_result.shape[0]): # number of room slots\n",
        "          if stage_three_result[k][j] == 1: \n",
        "            tmp_lst.append(rooms_dict[k][1])\n",
        "            res.append(tmp_lst)\n",
        "\n",
        "  res_df = pd.DataFrame(res, columns=['Instructor', 'Course', 'Days','Time','Room'])\n",
        "  if output: res_df.to_csv('{}.csv'.format(output_name))\n",
        "  return res_df"
      ],
      "metadata": {
        "id": "s0xbWPHN7WNR"
      },
      "execution_count": 46,
      "outputs": []
    },
    {
      "cell_type": "code",
      "source": [
        "def load_weights(prof_file, student_file,stage_one_result): \n",
        "\n",
        "  from numpy import genfromtxt\n",
        "  prof_weights = genfromtxt(prof_file, delimiter=',')\n",
        "  student_weights = genfromtxt(student_file, delimiter=',')#*12)\n",
        "\n",
        "\n",
        "\n",
        "  weights = np.multiply(prof_weights, np.tile(student_weights,(stage_one_result.shape[0],1)))\n",
        "\n",
        "  input_weights = np.matmul(stage_one_result.T, weights)\n",
        "\n",
        "  return input_weights"
      ],
      "metadata": {
        "id": "SwjmVn6d7Yd6"
      },
      "execution_count": 47,
      "outputs": []
    },
    {
      "cell_type": "code",
      "source": [
        "def run_model_unweighted(file_name,stage2_type, output_name, output=False): \n",
        "  df, prof_lst_index_reverse, course_lst_index_reverse,  prof_course_teaching_availability,time_slot_costs, course_costs, course_size_costs, room_slot_costs = process_data(file_name)\n",
        "  problem1, opt1, stage_one_result = stage_one(prof_course_teaching_availability)\n",
        "\n",
        "  problem2, opt2, stage_two_result = stage_two(stage_one_result, time_slot_costs, course_costs, preference_weights = np.ones(time_slot_costs.shape), s2_type=stage2_type )\n",
        "\n",
        "  problem3, opt3, stage_three_result = stage_three(stage_two_result, room_slot_costs, course_size_costs)\n",
        "\n",
        "  res_df = parse_results(df,prof_lst_index_reverse, stage_one_result, stage_two_result, stage_three_result,output_name, output)\n",
        "\n",
        "  return res_df, opt1,opt2,opt3"
      ],
      "metadata": {
        "id": "5UCSv9W-7aEz"
      },
      "execution_count": 48,
      "outputs": []
    },
    {
      "cell_type": "code",
      "source": [
        "def run_model_weighted(file_name,prof_weights_file, student_weights_file, stage2_type,output_name, output=False): \n",
        "  df, prof_lst_index_reverse, course_lst_index_reverse,  prof_course_teaching_availability,time_slot_costs, course_costs, course_size_costs, room_slot_costs = process_data(file_name)\n",
        "  problem1, opt1, stage_one_result = stage_one(prof_course_teaching_availability)\n",
        "\n",
        "  weights = load_weights(prof_weights_file, student_weights_file,stage_one_result)\n",
        "  problem2, opt2, stage_two_result = stage_two(stage_one_result, time_slot_costs, course_costs, preference_weights = weights,s2_type=stage2_type )\n",
        "\n",
        "  problem3, opt3, stage_three_result = stage_three(stage_two_result, room_slot_costs, course_size_costs)\n",
        "\n",
        "  res_df = parse_results(df, prof_lst_index_reverse, stage_one_result, stage_two_result, stage_three_result,output_name, output)\n",
        "\n",
        "  return res_df, opt1,opt2,opt3"
      ],
      "metadata": {
        "id": "pEjK29EX7bhV"
      },
      "execution_count": 49,
      "outputs": []
    },
    {
      "cell_type": "code",
      "source": [
        "def run_model_weighted_stage1stage2(file_name, prof_weights_file, student_weights_file, stage2_type, output_name, output=False): \n",
        "  df, prof_lst_index_reverse, course_lst_index_reverse,  prof_course_teaching_availability,time_slot_costs, course_costs, course_size_costs, room_slot_costs = process_data(file_name)\n",
        "  problem1, opt1, stage_one_result = stage_one(prof_course_teaching_availability)\n",
        "\n",
        "  weights = load_weights(prof_weights_file, student_weights_file,stage_one_result)\n",
        "  problem2, opt2, stage_two_result = stage_two(stage_one_result, time_slot_costs, course_costs, preference_weights = weights, s2_type=stage2_type)\n",
        "\n",
        "  res_df = parse_results_s1s2(df, prof_lst_index_reverse, stage_one_result, stage_two_result,output_name, output)\n",
        "\n",
        "  return res_df, opt1,opt2"
      ],
      "metadata": {
        "id": "MMzzbd117dL4"
      },
      "execution_count": 50,
      "outputs": []
    },
    {
      "cell_type": "code",
      "source": [
        "def parse_results_s1s2(df, prof_lst_index_reverse, stage_one_result, stage_two_result,output_name, output=False): \n",
        "  res = [] \n",
        "\n",
        "  time_slot_dict = load_time_slot_dict()\n",
        "  rooms_dict = load_rooms_dict()\n",
        "\n",
        "  for i in range(stage_one_result.shape[0]):  #number of profs\n",
        "    \n",
        "    for j in range(stage_one_result.shape[1]):  #number of courses \n",
        "      \n",
        "    \n",
        "      if stage_one_result[i][j] == 1: \n",
        "        tmp_lst = [] \n",
        "        tmp_lst.append(prof_lst_index_reverse[i])\n",
        "        tmp_lst.append(df['Course Code'][j]) \n",
        "  \n",
        "        for k in range(stage_two_result.shape[1]): # number of time slots\n",
        "          if stage_two_result[j][k] == 1: \n",
        "            tmp_lst.append(time_slot_dict[k][0])\n",
        "            tmp_lst.append(time_slot_dict[k][1])\n",
        "            res.append(tmp_lst) \n",
        "            \n",
        "\n",
        "  res_df = pd.DataFrame(res, columns=['Instructor', 'Course', 'Days','Time'])\n",
        "  if output: res_df.to_csv('{}.csv'.format(output_name))\n",
        "  return res_df"
      ],
      "metadata": {
        "id": "b3SdCK7f7exG"
      },
      "execution_count": 51,
      "outputs": []
    },
    {
      "cell_type": "markdown",
      "source": [
        "Running the Model"
      ],
      "metadata": {
        "id": "0vpAzdLK7gud"
      }
    },
    {
      "cell_type": "markdown",
      "source": [
        "Model 1"
      ],
      "metadata": {
        "id": "H6gysecf7k39"
      }
    },
    {
      "cell_type": "code",
      "source": [
        "from google.colab import files\n",
        "file_upload = files.upload()"
      ],
      "metadata": {
        "colab": {
          "resources": {
            "http://localhost:8080/nbextensions/google.colab/files.js": {
              "data": "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",
              "ok": true,
              "headers": [
                [
                  "content-type",
                  "application/javascript"
                ]
              ],
              "status": 200,
              "status_text": ""
            }
          },
          "base_uri": "https://localhost:8080/",
          "height": 88
        },
        "id": "YgZx22Qq-biY",
        "outputId": "0f5d935b-d9eb-42f3-de6b-6617f3bdcb98"
      },
      "execution_count": 61,
      "outputs": [
        {
          "output_type": "display_data",
          "data": {
            "text/plain": [
              "<IPython.core.display.HTML object>"
            ],
            "text/html": [
              "\n",
              "     <input type=\"file\" id=\"files-65e9ab09-0b99-468f-a99c-08272a3a6193\" name=\"files[]\" multiple disabled\n",
              "        style=\"border:none\" />\n",
              "     <output id=\"result-65e9ab09-0b99-468f-a99c-08272a3a6193\">\n",
              "      Upload widget is only available when the cell has been executed in the\n",
              "      current browser session. Please rerun this cell to enable.\n",
              "      </output>\n",
              "      <script src=\"/nbextensions/google.colab/files.js\"></script> "
            ]
          },
          "metadata": {}
        },
        {
          "output_type": "stream",
          "name": "stdout",
          "text": [
            "Saving Test data 1.xlsx to Test data 1 (5).xlsx\n"
          ]
        }
      ]
    },
    {
      "cell_type": "code",
      "source": [
        "model1_res, opt1,opt2,opt3 = run_model_unweighted('Test data 1.xlsx',\n",
        "                    stage2_type='baseline',                                      \n",
        "                   output_name = 'model1_baseline_no_weights',  \n",
        "                   output=False)\n",
        "\n",
        "print('Utils for Model 1:',opt2)"
      ],
      "metadata": {
        "colab": {
          "base_uri": "https://localhost:8080/",
          "height": 549
        },
        "id": "TQKsxrjJ7iKV",
        "outputId": "8f76f575-cab2-458f-f2f6-0115e6772da7"
      },
      "execution_count": 62,
      "outputs": [
        {
          "output_type": "error",
          "ename": "KeyError",
          "evalue": "ignored",
          "traceback": [
            "\u001b[0;31m---------------------------------------------------------------------------\u001b[0m",
            "\u001b[0;31mKeyError\u001b[0m                                  Traceback (most recent call last)",
            "\u001b[0;32m/usr/local/lib/python3.7/dist-packages/pandas/core/indexes/base.py\u001b[0m in \u001b[0;36mget_loc\u001b[0;34m(self, key, method, tolerance)\u001b[0m\n\u001b[1;32m   3360\u001b[0m             \u001b[0;32mtry\u001b[0m\u001b[0;34m:\u001b[0m\u001b[0;34m\u001b[0m\u001b[0;34m\u001b[0m\u001b[0m\n\u001b[0;32m-> 3361\u001b[0;31m                 \u001b[0;32mreturn\u001b[0m \u001b[0mself\u001b[0m\u001b[0;34m.\u001b[0m\u001b[0m_engine\u001b[0m\u001b[0;34m.\u001b[0m\u001b[0mget_loc\u001b[0m\u001b[0;34m(\u001b[0m\u001b[0mcasted_key\u001b[0m\u001b[0;34m)\u001b[0m\u001b[0;34m\u001b[0m\u001b[0;34m\u001b[0m\u001b[0m\n\u001b[0m\u001b[1;32m   3362\u001b[0m             \u001b[0;32mexcept\u001b[0m \u001b[0mKeyError\u001b[0m \u001b[0;32mas\u001b[0m \u001b[0merr\u001b[0m\u001b[0;34m:\u001b[0m\u001b[0;34m\u001b[0m\u001b[0;34m\u001b[0m\u001b[0m\n",
            "\u001b[0;32m/usr/local/lib/python3.7/dist-packages/pandas/_libs/index.pyx\u001b[0m in \u001b[0;36mpandas._libs.index.IndexEngine.get_loc\u001b[0;34m()\u001b[0m\n",
            "\u001b[0;32m/usr/local/lib/python3.7/dist-packages/pandas/_libs/index.pyx\u001b[0m in \u001b[0;36mpandas._libs.index.IndexEngine.get_loc\u001b[0;34m()\u001b[0m\n",
            "\u001b[0;32mpandas/_libs/hashtable_class_helper.pxi\u001b[0m in \u001b[0;36mpandas._libs.hashtable.PyObjectHashTable.get_item\u001b[0;34m()\u001b[0m\n",
            "\u001b[0;32mpandas/_libs/hashtable_class_helper.pxi\u001b[0m in \u001b[0;36mpandas._libs.hashtable.PyObjectHashTable.get_item\u001b[0;34m()\u001b[0m\n",
            "\u001b[0;31mKeyError\u001b[0m: 'Course Subject'",
            "\nThe above exception was the direct cause of the following exception:\n",
            "\u001b[0;31mKeyError\u001b[0m                                  Traceback (most recent call last)",
            "\u001b[0;32m<ipython-input-62-02fc2c0fce14>\u001b[0m in \u001b[0;36m<module>\u001b[0;34m()\u001b[0m\n\u001b[1;32m      2\u001b[0m                     \u001b[0mstage2_type\u001b[0m\u001b[0;34m=\u001b[0m\u001b[0;34m'baseline'\u001b[0m\u001b[0;34m,\u001b[0m\u001b[0;34m\u001b[0m\u001b[0;34m\u001b[0m\u001b[0m\n\u001b[1;32m      3\u001b[0m                    \u001b[0moutput_name\u001b[0m \u001b[0;34m=\u001b[0m \u001b[0;34m'model1_baseline_no_weights'\u001b[0m\u001b[0;34m,\u001b[0m\u001b[0;34m\u001b[0m\u001b[0;34m\u001b[0m\u001b[0m\n\u001b[0;32m----> 4\u001b[0;31m                    output=False)\n\u001b[0m\u001b[1;32m      5\u001b[0m \u001b[0;34m\u001b[0m\u001b[0m\n\u001b[1;32m      6\u001b[0m \u001b[0mprint\u001b[0m\u001b[0;34m(\u001b[0m\u001b[0;34m'Utils for Model 1:'\u001b[0m\u001b[0;34m,\u001b[0m\u001b[0mopt2\u001b[0m\u001b[0;34m)\u001b[0m\u001b[0;34m\u001b[0m\u001b[0;34m\u001b[0m\u001b[0m\n",
            "\u001b[0;32m<ipython-input-48-d644c37948d4>\u001b[0m in \u001b[0;36mrun_model_unweighted\u001b[0;34m(file_name, stage2_type, output_name, output)\u001b[0m\n\u001b[1;32m      1\u001b[0m \u001b[0;32mdef\u001b[0m \u001b[0mrun_model_unweighted\u001b[0m\u001b[0;34m(\u001b[0m\u001b[0mfile_name\u001b[0m\u001b[0;34m,\u001b[0m\u001b[0mstage2_type\u001b[0m\u001b[0;34m,\u001b[0m \u001b[0moutput_name\u001b[0m\u001b[0;34m,\u001b[0m \u001b[0moutput\u001b[0m\u001b[0;34m=\u001b[0m\u001b[0;32mFalse\u001b[0m\u001b[0;34m)\u001b[0m\u001b[0;34m:\u001b[0m\u001b[0;34m\u001b[0m\u001b[0;34m\u001b[0m\u001b[0m\n\u001b[0;32m----> 2\u001b[0;31m   \u001b[0mdf\u001b[0m\u001b[0;34m,\u001b[0m \u001b[0mprof_lst_index_reverse\u001b[0m\u001b[0;34m,\u001b[0m \u001b[0mcourse_lst_index_reverse\u001b[0m\u001b[0;34m,\u001b[0m  \u001b[0mprof_course_teaching_availability\u001b[0m\u001b[0;34m,\u001b[0m\u001b[0mtime_slot_costs\u001b[0m\u001b[0;34m,\u001b[0m \u001b[0mcourse_costs\u001b[0m\u001b[0;34m,\u001b[0m \u001b[0mcourse_size_costs\u001b[0m\u001b[0;34m,\u001b[0m \u001b[0mroom_slot_costs\u001b[0m \u001b[0;34m=\u001b[0m \u001b[0mprocess_data\u001b[0m\u001b[0;34m(\u001b[0m\u001b[0mfile_name\u001b[0m\u001b[0;34m)\u001b[0m\u001b[0;34m\u001b[0m\u001b[0;34m\u001b[0m\u001b[0m\n\u001b[0m\u001b[1;32m      3\u001b[0m   \u001b[0mproblem1\u001b[0m\u001b[0;34m,\u001b[0m \u001b[0mopt1\u001b[0m\u001b[0;34m,\u001b[0m \u001b[0mstage_one_result\u001b[0m \u001b[0;34m=\u001b[0m \u001b[0mstage_one\u001b[0m\u001b[0;34m(\u001b[0m\u001b[0mprof_course_teaching_availability\u001b[0m\u001b[0;34m)\u001b[0m\u001b[0;34m\u001b[0m\u001b[0;34m\u001b[0m\u001b[0m\n\u001b[1;32m      4\u001b[0m \u001b[0;34m\u001b[0m\u001b[0m\n\u001b[1;32m      5\u001b[0m   \u001b[0mproblem2\u001b[0m\u001b[0;34m,\u001b[0m \u001b[0mopt2\u001b[0m\u001b[0;34m,\u001b[0m \u001b[0mstage_two_result\u001b[0m \u001b[0;34m=\u001b[0m \u001b[0mstage_two\u001b[0m\u001b[0;34m(\u001b[0m\u001b[0mstage_one_result\u001b[0m\u001b[0;34m,\u001b[0m \u001b[0mtime_slot_costs\u001b[0m\u001b[0;34m,\u001b[0m \u001b[0mcourse_costs\u001b[0m\u001b[0;34m,\u001b[0m \u001b[0mpreference_weights\u001b[0m \u001b[0;34m=\u001b[0m \u001b[0mnp\u001b[0m\u001b[0;34m.\u001b[0m\u001b[0mones\u001b[0m\u001b[0;34m(\u001b[0m\u001b[0mtime_slot_costs\u001b[0m\u001b[0;34m.\u001b[0m\u001b[0mshape\u001b[0m\u001b[0;34m)\u001b[0m\u001b[0;34m,\u001b[0m \u001b[0ms2_type\u001b[0m\u001b[0;34m=\u001b[0m\u001b[0mstage2_type\u001b[0m \u001b[0;34m)\u001b[0m\u001b[0;34m\u001b[0m\u001b[0;34m\u001b[0m\u001b[0m\n",
            "\u001b[0;32m<ipython-input-45-4ea0c9506da7>\u001b[0m in \u001b[0;36mprocess_data\u001b[0;34m(file_name)\u001b[0m\n\u001b[1;32m      3\u001b[0m \u001b[0;34m\u001b[0m\u001b[0m\n\u001b[1;32m      4\u001b[0m   \u001b[0mdf\u001b[0m \u001b[0;34m=\u001b[0m \u001b[0mpd\u001b[0m\u001b[0;34m.\u001b[0m\u001b[0mread_excel\u001b[0m\u001b[0;34m(\u001b[0m\u001b[0mfile_name\u001b[0m\u001b[0;34m)\u001b[0m\u001b[0;34m\u001b[0m\u001b[0;34m\u001b[0m\u001b[0m\n\u001b[0;32m----> 5\u001b[0;31m   \u001b[0mdf\u001b[0m\u001b[0;34m[\u001b[0m\u001b[0;34m'Course'\u001b[0m\u001b[0;34m]\u001b[0m \u001b[0;34m=\u001b[0m \u001b[0mdf\u001b[0m\u001b[0;34m[\u001b[0m\u001b[0;34m'Course Subject'\u001b[0m\u001b[0;34m]\u001b[0m\u001b[0;34m+\u001b[0m\u001b[0mdf\u001b[0m\u001b[0;34m[\u001b[0m\u001b[0;34m'Course Number'\u001b[0m\u001b[0;34m]\u001b[0m\u001b[0;34m.\u001b[0m\u001b[0mastype\u001b[0m\u001b[0;34m(\u001b[0m\u001b[0;34m'str'\u001b[0m\u001b[0;34m)\u001b[0m\u001b[0;34m\u001b[0m\u001b[0;34m\u001b[0m\u001b[0m\n\u001b[0m\u001b[1;32m      6\u001b[0m   \u001b[0minput\u001b[0m \u001b[0;34m=\u001b[0m \u001b[0mdf\u001b[0m\u001b[0;34m[\u001b[0m\u001b[0;34m[\u001b[0m\u001b[0;34m'Course Code'\u001b[0m\u001b[0;34m,\u001b[0m\u001b[0;34m'Course'\u001b[0m\u001b[0;34m,\u001b[0m \u001b[0;34m'Course Title'\u001b[0m\u001b[0;34m,\u001b[0m\u001b[0;34m'Day counts'\u001b[0m\u001b[0;34m,\u001b[0m\u001b[0;34m'Room size needed'\u001b[0m\u001b[0;34m]\u001b[0m\u001b[0;34m]\u001b[0m\u001b[0;34m\u001b[0m\u001b[0;34m\u001b[0m\u001b[0m\n\u001b[1;32m      7\u001b[0m \u001b[0;34m\u001b[0m\u001b[0m\n",
            "\u001b[0;32m/usr/local/lib/python3.7/dist-packages/pandas/core/frame.py\u001b[0m in \u001b[0;36m__getitem__\u001b[0;34m(self, key)\u001b[0m\n\u001b[1;32m   3456\u001b[0m             \u001b[0;32mif\u001b[0m \u001b[0mself\u001b[0m\u001b[0;34m.\u001b[0m\u001b[0mcolumns\u001b[0m\u001b[0;34m.\u001b[0m\u001b[0mnlevels\u001b[0m \u001b[0;34m>\u001b[0m \u001b[0;36m1\u001b[0m\u001b[0;34m:\u001b[0m\u001b[0;34m\u001b[0m\u001b[0;34m\u001b[0m\u001b[0m\n\u001b[1;32m   3457\u001b[0m                 \u001b[0;32mreturn\u001b[0m \u001b[0mself\u001b[0m\u001b[0;34m.\u001b[0m\u001b[0m_getitem_multilevel\u001b[0m\u001b[0;34m(\u001b[0m\u001b[0mkey\u001b[0m\u001b[0;34m)\u001b[0m\u001b[0;34m\u001b[0m\u001b[0;34m\u001b[0m\u001b[0m\n\u001b[0;32m-> 3458\u001b[0;31m             \u001b[0mindexer\u001b[0m \u001b[0;34m=\u001b[0m \u001b[0mself\u001b[0m\u001b[0;34m.\u001b[0m\u001b[0mcolumns\u001b[0m\u001b[0;34m.\u001b[0m\u001b[0mget_loc\u001b[0m\u001b[0;34m(\u001b[0m\u001b[0mkey\u001b[0m\u001b[0;34m)\u001b[0m\u001b[0;34m\u001b[0m\u001b[0;34m\u001b[0m\u001b[0m\n\u001b[0m\u001b[1;32m   3459\u001b[0m             \u001b[0;32mif\u001b[0m \u001b[0mis_integer\u001b[0m\u001b[0;34m(\u001b[0m\u001b[0mindexer\u001b[0m\u001b[0;34m)\u001b[0m\u001b[0;34m:\u001b[0m\u001b[0;34m\u001b[0m\u001b[0;34m\u001b[0m\u001b[0m\n\u001b[1;32m   3460\u001b[0m                 \u001b[0mindexer\u001b[0m \u001b[0;34m=\u001b[0m \u001b[0;34m[\u001b[0m\u001b[0mindexer\u001b[0m\u001b[0;34m]\u001b[0m\u001b[0;34m\u001b[0m\u001b[0;34m\u001b[0m\u001b[0m\n",
            "\u001b[0;32m/usr/local/lib/python3.7/dist-packages/pandas/core/indexes/base.py\u001b[0m in \u001b[0;36mget_loc\u001b[0;34m(self, key, method, tolerance)\u001b[0m\n\u001b[1;32m   3361\u001b[0m                 \u001b[0;32mreturn\u001b[0m \u001b[0mself\u001b[0m\u001b[0;34m.\u001b[0m\u001b[0m_engine\u001b[0m\u001b[0;34m.\u001b[0m\u001b[0mget_loc\u001b[0m\u001b[0;34m(\u001b[0m\u001b[0mcasted_key\u001b[0m\u001b[0;34m)\u001b[0m\u001b[0;34m\u001b[0m\u001b[0;34m\u001b[0m\u001b[0m\n\u001b[1;32m   3362\u001b[0m             \u001b[0;32mexcept\u001b[0m \u001b[0mKeyError\u001b[0m \u001b[0;32mas\u001b[0m \u001b[0merr\u001b[0m\u001b[0;34m:\u001b[0m\u001b[0;34m\u001b[0m\u001b[0;34m\u001b[0m\u001b[0m\n\u001b[0;32m-> 3363\u001b[0;31m                 \u001b[0;32mraise\u001b[0m \u001b[0mKeyError\u001b[0m\u001b[0;34m(\u001b[0m\u001b[0mkey\u001b[0m\u001b[0;34m)\u001b[0m \u001b[0;32mfrom\u001b[0m \u001b[0merr\u001b[0m\u001b[0;34m\u001b[0m\u001b[0;34m\u001b[0m\u001b[0m\n\u001b[0m\u001b[1;32m   3364\u001b[0m \u001b[0;34m\u001b[0m\u001b[0m\n\u001b[1;32m   3365\u001b[0m         \u001b[0;32mif\u001b[0m \u001b[0mis_scalar\u001b[0m\u001b[0;34m(\u001b[0m\u001b[0mkey\u001b[0m\u001b[0;34m)\u001b[0m \u001b[0;32mand\u001b[0m \u001b[0misna\u001b[0m\u001b[0;34m(\u001b[0m\u001b[0mkey\u001b[0m\u001b[0;34m)\u001b[0m \u001b[0;32mand\u001b[0m \u001b[0;32mnot\u001b[0m \u001b[0mself\u001b[0m\u001b[0;34m.\u001b[0m\u001b[0mhasnans\u001b[0m\u001b[0;34m:\u001b[0m\u001b[0;34m\u001b[0m\u001b[0;34m\u001b[0m\u001b[0m\n",
            "\u001b[0;31mKeyError\u001b[0m: 'Course Subject'"
          ]
        }
      ]
    },
    {
      "cell_type": "markdown",
      "source": [
        "Looking at the model from 1 "
      ],
      "metadata": {
        "id": "XEqTr50c7qDu"
      }
    },
    {
      "cell_type": "code",
      "source": [
        "model1_res"
      ],
      "metadata": {
        "colab": {
          "base_uri": "https://localhost:8080/",
          "height": 162
        },
        "id": "NcUitzMf7m8l",
        "outputId": "a79a2f54-12c7-4517-e4ba-080b7f42d6d6"
      },
      "execution_count": 57,
      "outputs": [
        {
          "output_type": "error",
          "ename": "NameError",
          "evalue": "ignored",
          "traceback": [
            "\u001b[0;31m---------------------------------------------------------------------------\u001b[0m",
            "\u001b[0;31mNameError\u001b[0m                                 Traceback (most recent call last)",
            "\u001b[0;32m<ipython-input-57-162373e16442>\u001b[0m in \u001b[0;36m<module>\u001b[0;34m()\u001b[0m\n\u001b[0;32m----> 1\u001b[0;31m \u001b[0mmodel1_res\u001b[0m\u001b[0;34m\u001b[0m\u001b[0;34m\u001b[0m\u001b[0m\n\u001b[0m",
            "\u001b[0;31mNameError\u001b[0m: name 'model1_res' is not defined"
          ]
        }
      ]
    },
    {
      "cell_type": "markdown",
      "source": [
        "Model 2: Prefrence "
      ],
      "metadata": {
        "id": "mObSPe6Y7uVH"
      }
    },
    {
      "cell_type": "code",
      "source": [
        "model2_res, opt1,opt2,opt3 = run_model_weighted('CourseStatusReport_Edited.xls', \n",
        "                  'MATH 380 Project Model Weights Faculty.csv',\n",
        "                   'MATH 380 Project Model Weights Student.csv',\n",
        "                   stage2_type='baseline',\n",
        "                   output_name = 'model2_baseline_with_weights', \n",
        "                   output=False)\n",
        "print('Utils for Model 2:',opt2)"
      ],
      "metadata": {
        "id": "3UpbQNwJ7sKA"
      },
      "execution_count": null,
      "outputs": []
    },
    {
      "cell_type": "code",
      "source": [
        "model2_res"
      ],
      "metadata": {
        "id": "0W8x96zD7ys7"
      },
      "execution_count": null,
      "outputs": []
    },
    {
      "cell_type": "markdown",
      "source": [
        ""
      ],
      "metadata": {
        "id": "ry7_S1GD7z5J"
      }
    }
  ]
}