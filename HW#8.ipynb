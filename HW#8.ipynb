{
  "nbformat": 4,
  "nbformat_minor": 0,
  "metadata": {
    "colab": {
      "name": "Untitled30.ipynb",
      "provenance": [],
      "authorship_tag": "ABX9TyNGaGSMe/JsvvnvDgTqopoW",
      "include_colab_link": true
    },
    "kernelspec": {
      "name": "python3",
      "display_name": "Python 3"
    },
    "language_info": {
      "name": "python"
    }
  },
  "cells": [
    {
      "cell_type": "markdown",
      "metadata": {
        "id": "view-in-github",
        "colab_type": "text"
      },
      "source": [
        "<a href=\"https://colab.research.google.com/github/jasmineA20/MathModeling/blob/main/HW%238.ipynb\" target=\"_parent\"><img src=\"https://colab.research.google.com/assets/colab-badge.svg\" alt=\"Open In Colab\"/></a>"
      ]
    },
    {
      "cell_type": "code",
      "source": [
        "import numpy as np\n",
        "import random\n",
        "random.seed(12)"
      ],
      "metadata": {
        "id": "ITg7inHu8WlF"
      },
      "execution_count": 2,
      "outputs": []
    },
    {
      "cell_type": "markdown",
      "source": [
        "Section 5.1 #3 "
      ],
      "metadata": {
        "id": "Z53zSHXy7TBt"
      }
    },
    {
      "cell_type": "markdown",
      "source": [
        "approximating pi by considering the number of random points selected inside the quarter circle Q: $x^2 + y^2 = 1, x \\geq{0}, y \\geq 0$ where the quarter circle is taken to be inside the square \\\\\n",
        " S: 0 $\\leq x \\leq 1$ and 0 $\\leq y \\leq 1$"
      ],
      "metadata": {
        "id": "15ADceLZCj2F"
      }
    },
    {
      "cell_type": "markdown",
      "source": [
        "Input: total number of random points to be generated: n \\\\\n",
        "Output: Estimated value of pi \\\\\n",
        "\n",
        "1) Initialize counter = 0 \\\\\n",
        "2) for i = 1,2,..N do steps 3-5 \\\\\n",
        "3) Generate random numbers for x_i and y_i such that 0<=x_i<=1 and 0<=y_i<=1\\\\\n",
        "4) If random y_i <= f(x_i, y_i) increment counter by 1 \\\\\n",
        "5) leave loop and calculate area value  counter/nval \\\\\n",
        "6) Multiply the area by 4 since this was only a quarter of a circle to get the approximate value of pi. \\\\"
      ],
      "metadata": {
        "id": "ffw1GfmR3LkT"
      }
    },
    {
      "cell_type": "code",
      "execution_count": 5,
      "metadata": {
        "colab": {
          "base_uri": "https://localhost:8080/"
        },
        "id": "YHgZSpft7KeX",
        "outputId": "0c695f95-f93a-41ec-8d59-844d488302ef"
      },
      "outputs": [
        {
          "output_type": "stream",
          "name": "stdout",
          "text": [
            "Pi approximation when n is 100 =  3.04\n",
            "Pi approximation when n is 200 =  3.06\n",
            "Pi approximation when n is 300 =  3.2\n",
            "Pi approximation when n is 400 =  3.11\n",
            "Pi approximation when n is 500 =  3.128\n",
            "Pi approximation when n is 1000 =  3.152\n",
            "Pi approximation when n is 10000 =  3.1544\n",
            "Pi approximation when n is 100000 =  3.14296\n"
          ]
        }
      ],
      "source": [
        "counter = 0\n",
        "\n",
        "n = [100, 200, 300, 400, 500, 1000, 10000, 100000 ]\n",
        "for n_val in n: \n",
        "  counter = 0 \n",
        "  for j in range(n_val):\n",
        "    x,y = random.random(), random.random()\n",
        "    Q = x**2 + y**2 \n",
        "    if Q <= 1: \n",
        "      counter += 1\n",
        "  area_val = counter/n_val \n",
        "  approx_pi = 4 * area_val\n",
        "  print(\"Pi approximation when n is {} = \".format(n_val),approx_pi)"
      ]
    },
    {
      "cell_type": "markdown",
      "source": [
        "Section 5.1 #5"
      ],
      "metadata": {
        "id": "FN1es_jm7WJ7"
      }
    },
    {
      "cell_type": "markdown",
      "source": [
        "Area trapped between two curves $ y = x^2$ and y = 6 - x and the x and y axes "
      ],
      "metadata": {
        "id": "vjJn_ARcCZF1"
      }
    },
    {
      "cell_type": "markdown",
      "source": [
        "Input: Total number n_val of random points to be generated in the simulation. \\\\\n",
        "Output: area between the given curves. \\\\\n",
        "1) Initialize counter = 0 \\\\\n",
        "2) for i = 1,2,...,N do step 3-5 \\\\\n",
        "3) Generate random numbers x,y such that it satisfies both curves. \\\\\n",
        "4) If the value is between the range then increment counter by 1 \\\\\n",
        "5) Calculate the area between the two curves. \\\\\n",
        "6) Calculate counter \\\\\n",
        "7) Coutput area = 6*2*counter/n_val"
      ],
      "metadata": {
        "id": "uXyMbkVC4ZPX"
      }
    },
    {
      "cell_type": "code",
      "source": [
        "n = [100, 200, 300, 400, 500, 1000, 10000, 100000 ]\n",
        "for n_val in n: \n",
        "  counter = 0 \n",
        "  for i in range(n_val):\n",
        "    x,y = 2*random.random(), 6*random.random()\n",
        "    y1 = x*x\n",
        "    y2 = 6-x\n",
        "\n",
        "    if y > y1 and y < y2: \n",
        "      counter += 1\n",
        "\n",
        "  area = 6*2*counter/n_val\n",
        "  print(\"Approximation of area when n is {} = \".format(n_val),area)"
      ],
      "metadata": {
        "colab": {
          "base_uri": "https://localhost:8080/"
        },
        "id": "tijgDoRb-uNO",
        "outputId": "588b291e-415b-41a1-fd6d-7f1b686fad1c"
      },
      "execution_count": 4,
      "outputs": [
        {
          "output_type": "stream",
          "name": "stdout",
          "text": [
            "Approximation of area when n is 100 =  6.96\n",
            "Approximation of area when n is 200 =  7.14\n",
            "Approximation of area when n is 300 =  7.2\n",
            "Approximation of area when n is 400 =  7.44\n",
            "Approximation of area when n is 500 =  7.392\n",
            "Approximation of area when n is 1000 =  6.936\n",
            "Approximation of area when n is 10000 =  7.4148\n",
            "Approximation of area when n is 100000 =  7.3296\n"
          ]
        }
      ]
    },
    {
      "cell_type": "markdown",
      "source": [
        "Section 5.3 #2"
      ],
      "metadata": {
        "id": "IptyOuLe7w8a"
      }
    },
    {
      "cell_type": "markdown",
      "source": [
        "input: Total number n of 5 coin flips in the simulation. \\\\\n",
        "output: The probability of three heads occuring. \\\\\n",
        "1) Inititalize counter to 0. \\\\\n",
        "2) iterate over the number of flips generated and repeat steps 3 and 4 \n",
        ". \\\\\n",
        "3) Assuming heads occured for x<=0.5, increment counter for this condition. \\\\\n",
        "4) Check if counter is 3. If yes, break if not, go back to 2. \\\\\n",
        "5) Compute the probabiltiy as number of points for which heads occured and divide by number of flips. \\\\\n",
        "6) Print the probability computed. "
      ],
      "metadata": {
        "id": "CI5FVYKX5IZq"
      }
    },
    {
      "cell_type": "code",
      "source": [
        "counter = 0\n",
        "n = [100, 200, 300, 400, 500, 1000, 10000, 100000 ]\n",
        "for n_val in n: \n",
        "  counter = 0 \n",
        "  for i in range(n_val):\n",
        "    count = 0\n",
        "    for _ in range(5):\n",
        "      x = random.random()\n",
        "      if x<= .5:\n",
        "        count += 1\n",
        "    if count == 3: \n",
        "      counter +=1 \n",
        "\n",
        "  probability = counter/n_val\n",
        "  print(\"The probability when n is {} = \".format(n_val),probability)"
      ],
      "metadata": {
        "colab": {
          "base_uri": "https://localhost:8080/"
        },
        "id": "NjxPyh8f_kax",
        "outputId": "b68d277a-9ae8-4a44-8fb5-1a19253369a0"
      },
      "execution_count": 6,
      "outputs": [
        {
          "output_type": "stream",
          "name": "stdout",
          "text": [
            "The probability when n is 100 =  0.39\n",
            "The probability when n is 200 =  0.31\n",
            "The probability when n is 300 =  0.31666666666666665\n",
            "The probability when n is 400 =  0.34\n",
            "The probability when n is 500 =  0.294\n",
            "The probability when n is 1000 =  0.309\n",
            "The probability when n is 10000 =  0.3102\n",
            "The probability when n is 100000 =  0.31302\n"
          ]
        }
      ]
    },
    {
      "cell_type": "markdown",
      "source": [
        "mean score for throwing five darts for n = 1000 from above is 0.309 "
      ],
      "metadata": {
        "id": "Fk9ybK3IPPtu"
      }
    },
    {
      "cell_type": "markdown",
      "source": [
        "Section 5.3 #4"
      ],
      "metadata": {
        "id": "XA9gwqOG79KU"
      }
    },
    {
      "cell_type": "markdown",
      "source": [
        ""
      ],
      "metadata": {
        "id": "ieqyw10O1sPf"
      }
    },
    {
      "cell_type": "markdown",
      "source": [
        "(i) \\\\\n",
        "0 <= x_1i <= 0.1, roll1 = 1 \\\\\n",
        "0.1 <= x_1i <= 0.2, roll1 = 2 \\\\\n",
        "0.2 <= x_1i <= 0.4, roll1 = 3 \\\\\n",
        "0.4 <= x_1i <= 0.7, roll1 = 4 \\\\\n",
        "0.7 <= x_1i <= 0.9, roll1 = 5 \\\\\n",
        "0.9 <= x_1i <= 1, roll1 = 6 \\\\"
      ],
      "metadata": {
        "id": "xTNkYAdG15Jv"
      }
    },
    {
      "cell_type": "markdown",
      "source": [
        "(ii) \\\\\n",
        "0 <= x_2i <= 0.3, roll2 = 1 \\\\\n",
        "0.3 <= x_2i <= 0.4, roll2 = 2 \\\\\n",
        "0.4 <= x_2i <= 0.6, roll2 = 3 \\\\\n",
        "0.6 <= x_2i <= 0.7, roll2 = 4 \\\\\n",
        "0.7 <= x_2i <= 0.75, roll2 = 5 \\\\\n",
        "0.75 <= x_2i <= 1, roll2 = 6 \\\\"
      ],
      "metadata": {
        "id": "NGNLtsnf2UR6"
      }
    },
    {
      "cell_type": "markdown",
      "source": [
        "1) Initialize counters to 0 \\\\\n",
        "2) for all i from 1 to n, n = 300 \\\\\n",
        "3) find two numbers such that 0<= x_1i < 1 and 0<= x_2i <= 1. \\\\\n",
        "4) if x_i1 belongs to [0,1], set roll1 to values as described by (i) \\\\\n",
        "5) if x_2i belongs to [0,1], set roll2 to values as described by (ii) \\\\\n",
        "6) Calculate sum roll1+roll2 \\\\\n",
        "7) Increment counter \n",
        "8) calculate probability of each sum i = 0,1,...,12 = counter/n"
      ],
      "metadata": {
        "id": "csUUON-h1IAv"
      }
    },
    {
      "cell_type": "code",
      "source": [
        "n = 300 \n",
        "\n",
        "counter = np.zeros([13,1])\n",
        "\n",
        "for i in range(n):\n",
        "  x1,x2 = random.random(), random.random()\n",
        "\n",
        "  if x1 <= .1:\n",
        "    roll_1 = 1\n",
        "  elif x1 <=.2:\n",
        "    roll_1 = 2\n",
        "  elif x1 <=.4:\n",
        "    roll_1 =3\n",
        "  elif x1 <=.7:\n",
        "    roll_1 = 4\n",
        "  elif x1 <=.9:\n",
        "    roll_1 = 5\n",
        "  else: \n",
        "    roll_1 = 6\n",
        "\n",
        "  if x2 <= .3:\n",
        "    roll_2 = 1\n",
        "  elif x2 <= .4:\n",
        "    roll_2 = 2     \n",
        "  elif x2 <= .6:\n",
        "    roll_2 = 3\n",
        "  elif x2 <= .7:\n",
        "    roll_2 = 4\n",
        "  elif x2 <= .75:\n",
        "    roll_2 = 5\n",
        "  else: \n",
        "    roll_2 = 6\n",
        "\n",
        "  sum_rolls = roll_1 + roll_2 \n",
        "  counter[sum_rolls] = counter[sum_rolls]+1\n",
        "\n",
        "probabilities = counter/n \n",
        "print('Probabilites when n = 300 are: ')   \n",
        "print(probabilities)   "
      ],
      "metadata": {
        "colab": {
          "base_uri": "https://localhost:8080/"
        },
        "id": "zBaMKcCA7-Zq",
        "outputId": "e036fda6-6a13-42d4-8dce-e5cd0cf02a23"
      },
      "execution_count": 7,
      "outputs": [
        {
          "output_type": "stream",
          "name": "stdout",
          "text": [
            "Probabilites when n = 300 are: \n",
            "[[0.        ]\n",
            " [0.        ]\n",
            " [0.02666667]\n",
            " [0.02666667]\n",
            " [0.08666667]\n",
            " [0.13666667]\n",
            " [0.16      ]\n",
            " [0.15      ]\n",
            " [0.12333333]\n",
            " [0.11333333]\n",
            " [0.08      ]\n",
            " [0.06666667]\n",
            " [0.03      ]]\n"
          ]
        }
      ]
    },
    {
      "cell_type": "markdown",
      "source": [
        "Final Problem"
      ],
      "metadata": {
        "id": "dQl2nbB27_UH"
      }
    },
    {
      "cell_type": "markdown",
      "source": [
        "Two fair coins flipped simultaneously and Player 1 calls \"Evens\" or \"Odds\". \"Evens\" means that coins must match (both heads or both tails), and \"Odds\" means that coins will not match. If PLayer 1 calls correctly then he/she wins $1 from Player 2. If player 1 calls incorrectly then Player 2 wins $1 from Player 1. "
      ],
      "metadata": {
        "id": "vOrgVwsaKly2"
      }
    },
    {
      "cell_type": "markdown",
      "source": [
        "Coins flips yield {HH, HT, TH, TT} with probabilities  \\\\\n",
        "P(HH) = 1/4 (Even) \\\\\n",
        "P(HT) = P(TH) = 2/4 (Odd) \\\\\n",
        "P(TT) = 1/4 (Even) \\\\\n",
        "P(Even) = 2/4 = 1/2 \\\\\n",
        "P(Odd) = 2/4 = 1/2 \\\\\n",
        "Expected payoff = (1*(1/2) + (-1)*(1/2))*n = 0 \\\\\n",
        "\n",
        "With either strategy, the expected payoff is still $0 since the probability of winning and losing is equal. \n",
        "\n",
        "\n"
      ],
      "metadata": {
        "id": "fxpolM79LDrl"
      }
    },
    {
      "cell_type": "code",
      "source": [
        ""
      ],
      "metadata": {
        "id": "_-r_vS3eJ7ma"
      },
      "execution_count": null,
      "outputs": []
    }
  ]
}