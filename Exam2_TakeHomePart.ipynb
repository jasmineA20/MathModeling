{
  "nbformat": 4,
  "nbformat_minor": 0,
  "metadata": {
    "colab": {
      "name": "Untitled32.ipynb",
      "provenance": [],
      "authorship_tag": "ABX9TyOYj7efFVvjUKqXrxoflyvF",
      "include_colab_link": true
    },
    "kernelspec": {
      "name": "python3",
      "display_name": "Python 3"
    },
    "language_info": {
      "name": "python"
    }
  },
  "cells": [
    {
      "cell_type": "markdown",
      "metadata": {
        "id": "view-in-github",
        "colab_type": "text"
      },
      "source": [
        "<a href=\"https://colab.research.google.com/github/jasmineA20/MathModeling/blob/main/Exam2_TakeHomePart.ipynb\" target=\"_parent\"><img src=\"https://colab.research.google.com/assets/colab-badge.svg\" alt=\"Open In Colab\"/></a>"
      ]
    },
    {
      "cell_type": "markdown",
      "source": [
        "To find long term probabilities, we compute the eigenvalues of the transition matrix figured out earlier. "
      ],
      "metadata": {
        "id": "YmiAX86ZnGAR"
      }
    },
    {
      "cell_type": "code",
      "execution_count": null,
      "metadata": {
        "id": "kAB4QK6Om9T4"
      },
      "outputs": [],
      "source": [
        "import numpy as np\n",
        "from sympy import *"
      ]
    },
    {
      "cell_type": "code",
      "source": [
        "// P -> transition matrix \n",
        "p = np.array([[0.45,0.2],[0.55,0.8]])"
      ],
      "metadata": {
        "id": "xS3qdt8BnjnP"
      },
      "execution_count": null,
      "outputs": []
    },
    {
      "cell_type": "code",
      "source": [
        "A = np.concatenate([P-np.eye(2), np.array([[0],[0]])], axis=1)"
      ],
      "metadata": {
        "id": "NedYwo5Anu_8"
      },
      "execution_count": null,
      "outputs": []
    },
    {
      "cell_type": "code",
      "source": [
        "A = np.concatenate([A, np.array([[1,1,1]])])"
      ],
      "metadata": {
        "id": "pRIa3sXOoFD8"
      },
      "execution_count": null,
      "outputs": []
    },
    {
      "cell_type": "code",
      "source": [
        "M = Matrix(A)"
      ],
      "metadata": {
        "id": "60a6bh4boJxE"
      },
      "execution_count": null,
      "outputs": []
    },
    {
      "cell_type": "code",
      "source": [
        "M_rref = M.rref()"
      ],
      "metadata": {
        "id": "v3xvgTLfoL9W"
      },
      "execution_count": null,
      "outputs": []
    }
  ]
}